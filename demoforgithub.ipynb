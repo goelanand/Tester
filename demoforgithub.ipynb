{
  "nbformat": 4,
  "nbformat_minor": 0,
  "metadata": {
    "colab": {
      "name": "demoforgithub.ipynb",
      "provenance": [],
      "collapsed_sections": [],
      "authorship_tag": "ABX9TyNx7HvdPgDOhcPiYXM6GGJ0",
      "include_colab_link": true
    },
    "kernelspec": {
      "name": "python3",
      "display_name": "Python 3"
    }
  },
  "cells": [
    {
      "cell_type": "markdown",
      "metadata": {
        "id": "view-in-github",
        "colab_type": "text"
      },
      "source": [
        "<a href=\"https://colab.research.google.com/github/goelanand/Tester/blob/master/demoforgithub.ipynb\" target=\"_parent\"><img src=\"https://colab.research.google.com/assets/colab-badge.svg\" alt=\"Open In Colab\"/></a>"
      ]
    },
    {
      "cell_type": "code",
      "metadata": {
        "id": "JK8Xhn58VboQ"
      },
      "source": [
        "Testing file push to testing folder"
      ],
      "execution_count": null,
      "outputs": []
    },
    {
      "cell_type": "markdown",
      "metadata": {
        "id": "m72LfhK3fsuQ"
      },
      "source": [
        "$x ∈ [-5, 5]$\n",
        ">$A_{m,n} =\n",
        "   \\begin{pmatrix}\n",
        "   a_{1,1} > a_{1,2} > \\cdots > a_{1,n} \\\\\n",
        "   a_{2,1} > a_{2,2} > \\cdots > a_{2,n} \\\\\n",
        "   \\vdots > \\vdots > \\ddots > \\vdots \\\\\n",
        "   a_{m,1} > a_{m,2} > \\cdots > a_{m,n}\n",
        "   \\end{pmatrix}$"
      ]
    },
    {
      "cell_type": "markdown",
      "metadata": {
        "id": "OTZTWGgJfqN1"
      },
      "source": [
        ""
      ]
    },
    {
      "cell_type": "code",
      "metadata": {
        "id": "JxqtI-lXVUnu",
        "outputId": "f4c8bca5-b2fa-4e30-b7cc-a87c61c1d0cc",
        "colab": {
          "base_uri": "https://localhost:8080/",
          "height": 129
        }
      },
      "source": [
        "$x ∈ [-5, 5]$\n",
        ">$A_{m,n} =\n",
        "   \\begin{pmatrix}\n",
        "   a_{1,1} > a_{1,2} > \\cdots > a_{1,n} \\\\\n",
        "   a_{2,1} > a_{2,2} > \\cdots > a_{2,n} \\\\\n",
        "   \\vdots > \\vdots > \\ddots > \\vdots \\\\\n",
        "   a_{m,1} > a_{m,2} > \\cdots > a_{m,n}\n",
        "   \\end{pmatrix}$"
      ],
      "execution_count": null,
      "outputs": [
        {
          "output_type": "error",
          "ename": "SyntaxError",
          "evalue": "ignored",
          "traceback": [
            "\u001b[0;36m  File \u001b[0;32m\"<ipython-input-3-665d39c781ef>\"\u001b[0;36m, line \u001b[0;32m1\u001b[0m\n\u001b[0;31m    $x ∈ [-5, 5]$\u001b[0m\n\u001b[0m    ^\u001b[0m\n\u001b[0;31mSyntaxError\u001b[0m\u001b[0;31m:\u001b[0m invalid syntax\n"
          ]
        }
      ]
    },
    {
      "cell_type": "markdown",
      "metadata": {
        "id": "7CZpqlB3XGCp"
      },
      "source": [
        ""
      ]
    },
    {
      "cell_type": "markdown",
      "metadata": {
        "id": "M8uaPhYZVVIY"
      },
      "source": [
        "$x ∈ [-5, 5]$\n",
        ">$A_{m,n} =\n",
        "   \\begin{pmatrix}\n",
        "   a_{1,1} > a_{1,2} > \\cdots > a_{1,n} \\\\\n",
        "   a_{2,1} > a_{2,2} > \\cdots > a_{2,n} \\\\\n",
        "   \\vdots > \\vdots > \\ddots > \\vdots \\\\\n",
        "   a_{m,1} > a_{m,2} > \\cdots > a_{m,n}\n",
        "   \\end{pmatrix}$"
      ]
    },
    {
      "cell_type": "markdown",
      "metadata": {
        "id": "xLvZ8HKlXCwo"
      },
      "source": [
        "read me file"
      ]
    }
  ]
}