{
  "nbformat": 4,
  "nbformat_minor": 0,
  "metadata": {
    "colab": {
      "name": "Pytorch1.7.1.ipynb",
      "provenance": [],
      "authorship_tag": "ABX9TyN0vWAwBUn4jhhiJfZPwJkI",
      "include_colab_link": true
    },
    "kernelspec": {
      "name": "python3",
      "display_name": "Python 3"
    }
  },
  "cells": [
    {
      "cell_type": "markdown",
      "metadata": {
        "id": "view-in-github",
        "colab_type": "text"
      },
      "source": [
        "<a href=\"https://colab.research.google.com/github/goelanand/Tester/blob/master/Pytorch1_7_1.ipynb\" target=\"_parent\"><img src=\"https://colab.research.google.com/assets/colab-badge.svg\" alt=\"Open In Colab\"/></a>"
      ]
    },
    {
      "cell_type": "markdown",
      "metadata": {
        "id": "VGJtcIz40xwg"
      },
      "source": [
        "# PYTORCH VERSION 1.7.1"
      ]
    },
    {
      "cell_type": "code",
      "metadata": {
        "colab": {
          "base_uri": "https://localhost:8080/",
          "height": 38
        },
        "id": "LfNm7IzB8wIU",
        "outputId": "097c2d63-c689-4ef3-ce20-98ca7ac2e6f9"
      },
      "source": [
        "%%html\r\n",
        "<marquee style='width: 50%; color: Red;'>Welcome to Azhar Tutorial!</marquee>\r\n"
      ],
      "execution_count": 20,
      "outputs": [
        {
          "output_type": "display_data",
          "data": {
            "text/html": [
              "<marquee style='width: 50%; color: Red;'>Welcome to Azhar Tutorial!</marquee>"
            ],
            "text/plain": [
              "<IPython.core.display.HTML object>"
            ]
          },
          "metadata": {
            "tags": []
          }
        }
      ]
    },
    {
      "cell_type": "markdown",
      "metadata": {
        "id": "I0-dVGJA1F15"
      },
      "source": [
        "**Installing pytorch 1.7.1**"
      ]
    },
    {
      "cell_type": "code",
      "metadata": {
        "colab": {
          "base_uri": "https://localhost:8080/"
        },
        "id": "t2HC_z-5xale",
        "outputId": "2cfa442c-3a2f-4061-ef85-3be6e80bb335"
      },
      "source": [
        "!pip install torch==1.7.1 "
      ],
      "execution_count": 21,
      "outputs": [
        {
          "output_type": "stream",
          "text": [
            "Requirement already satisfied: torch==1.7.1 in /usr/local/lib/python3.6/dist-packages (1.7.1)\n",
            "Requirement already satisfied: dataclasses; python_version < \"3.7\" in /usr/local/lib/python3.6/dist-packages (from torch==1.7.1) (0.8)\n",
            "Requirement already satisfied: numpy in /usr/local/lib/python3.6/dist-packages (from torch==1.7.1) (1.19.4)\n",
            "Requirement already satisfied: typing-extensions in /usr/local/lib/python3.6/dist-packages (from torch==1.7.1) (3.7.4.3)\n"
          ],
          "name": "stdout"
        }
      ]
    },
    {
      "cell_type": "code",
      "metadata": {
        "colab": {
          "base_uri": "https://localhost:8080/"
        },
        "id": "939OGaEJzQcy",
        "outputId": "b438ec5d-3624-47d8-94c8-fe1eb74cc4f0"
      },
      "source": [
        "import torch\r\n",
        "print('Pytorch Version: ',torch.__version__)\r\n",
        "len(dir(torch))"
      ],
      "execution_count": 22,
      "outputs": [
        {
          "output_type": "stream",
          "text": [
            "Pytorch Version:  1.7.1\n"
          ],
          "name": "stdout"
        },
        {
          "output_type": "execute_result",
          "data": {
            "text/plain": [
              "937"
            ]
          },
          "metadata": {
            "tags": []
          },
          "execution_count": 22
        }
      ]
    },
    {
      "cell_type": "markdown",
      "metadata": {
        "id": "7B26u8W11fLs"
      },
      "source": [
        "To verify our GPU capabilities, we use torch.cuda.is_available() "
      ]
    },
    {
      "cell_type": "code",
      "metadata": {
        "colab": {
          "base_uri": "https://localhost:8080/"
        },
        "id": "cCqRVYibzUfR",
        "outputId": "45bde5db-63bf-4040-e377-18e4ebfbfe9e"
      },
      "source": [
        "torch.cuda.is_available()"
      ],
      "execution_count": 23,
      "outputs": [
        {
          "output_type": "execute_result",
          "data": {
            "text/plain": [
              "False"
            ]
          },
          "metadata": {
            "tags": []
          },
          "execution_count": 23
        }
      ]
    },
    {
      "cell_type": "code",
      "metadata": {
        "colab": {
          "base_uri": "https://localhost:8080/",
          "height": 135
        },
        "id": "RWcAAPG1eqGj",
        "outputId": "37638443-524b-4f97-ef30-9ddb77e6e4d1"
      },
      "source": [
        ""
      ],
      "execution_count": 24,
      "outputs": [
        {
          "output_type": "error",
          "ename": "SyntaxError",
          "evalue": "ignored",
          "traceback": [
            "\u001b[0;36m  File \u001b[0;32m\"<ipython-input-24-cec2442f7eae>\"\u001b[0;36m, line \u001b[0;32m1\u001b[0m\n\u001b[0;31m    list torch\u001b[0m\n\u001b[0m             ^\u001b[0m\n\u001b[0;31mSyntaxError\u001b[0m\u001b[0;31m:\u001b[0m invalid syntax\n"
          ]
        }
      ]
    },
    {
      "cell_type": "markdown",
      "metadata": {
        "id": "Gm8DPCla1tOq"
      },
      "source": [
        "*check the cuda version.*"
      ]
    },
    {
      "cell_type": "code",
      "metadata": {
        "colab": {
          "base_uri": "https://localhost:8080/",
          "height": 35
        },
        "id": "AYUk8h2Zz-z1",
        "outputId": "8751e132-bc5a-484a-d24a-1b6ebdb6aa94"
      },
      "source": [
        "torch.version.cuda"
      ],
      "execution_count": 25,
      "outputs": [
        {
          "output_type": "execute_result",
          "data": {
            "application/vnd.google.colaboratory.intrinsic+json": {
              "type": "string"
            },
            "text/plain": [
              "'10.2'"
            ]
          },
          "metadata": {
            "tags": []
          },
          "execution_count": 25
        }
      ]
    },
    {
      "cell_type": "markdown",
      "metadata": {
        "id": "4jkaj96p2yFn"
      },
      "source": [
        "*command we use to verify the installed version of PyTorch*"
      ]
    },
    {
      "cell_type": "code",
      "metadata": {
        "id": "ibw02Y-T1r0I"
      },
      "source": [
        "!pip list pytorch"
      ],
      "execution_count": null,
      "outputs": []
    },
    {
      "cell_type": "code",
      "metadata": {
        "id": "JRPFnK_w10Ue"
      },
      "source": [
        "import torch \r\n",
        "import torchvision \r\n",
        "''' \r\n",
        "IF TORCHVISION pops up with some dependency issue then consider upgrading torchvision\r\n",
        "\r\n",
        "the version of torchvision should install based on your PyTorch\r\n",
        "torch \ttorchvision\t  python\r\n",
        "1.7.1  \t  0.8.2\t      >=3.6\r\n",
        "'''\r\n",
        "#pip install --upgrade torchvision>=0.8.20\r\n",
        "import torch.nn as nn\r\n",
        "import numpy as np\r\n",
        "import torchvision.transforms as transforms"
      ],
      "execution_count": 26,
      "outputs": []
    },
    {
      "cell_type": "markdown",
      "metadata": {
        "id": "lYIAdXTLC0MI"
      },
      "source": [
        "### **Basics of pyTorch**"
      ]
    },
    {
      "cell_type": "code",
      "metadata": {
        "colab": {
          "base_uri": "https://localhost:8080/"
        },
        "id": "1xnHv8iuAXlG",
        "outputId": "a2248bf8-2f79-4dc6-a9c7-0206769b9068"
      },
      "source": [
        "x = torch.tensor(1., requires_grad=True)\r\n",
        "w = torch.tensor(2., requires_grad=True)\r\n",
        "b = torch.tensor(3., requires_grad=True)\r\n",
        "print(x,w,b)"
      ],
      "execution_count": 7,
      "outputs": [
        {
          "output_type": "stream",
          "text": [
            "tensor(1., requires_grad=True) tensor(2., requires_grad=True) tensor(3., requires_grad=True)\n"
          ],
          "name": "stdout"
        }
      ]
    },
    {
      "cell_type": "markdown",
      "metadata": {
        "id": "ptfFdtTNDTb4"
      },
      "source": [
        "*Build a computational graph.*"
      ]
    },
    {
      "cell_type": "code",
      "metadata": {
        "colab": {
          "base_uri": "https://localhost:8080/"
        },
        "id": "SejrE58sAX_C",
        "outputId": "76ede920-3cb5-4313-d74d-d62cdc3d06ad"
      },
      "source": [
        "y = w * x + b    # y = 2 * x + 3\r\n",
        "print(y)"
      ],
      "execution_count": 11,
      "outputs": [
        {
          "output_type": "stream",
          "text": [
            "tensor(5., grad_fn=<AddBackward0>)\n"
          ],
          "name": "stdout"
        }
      ]
    },
    {
      "cell_type": "code",
      "metadata": {
        "id": "92dDHEW2AYvU"
      },
      "source": [
        "# Compute gradients.\r\n",
        "y.backward()"
      ],
      "execution_count": 12,
      "outputs": []
    },
    {
      "cell_type": "code",
      "metadata": {
        "colab": {
          "base_uri": "https://localhost:8080/"
        },
        "id": "hUKkuMa-AYxs",
        "outputId": "beffa39e-a93d-4b3d-a087-2ab8f80486ea"
      },
      "source": [
        "# Print out the gradients.\r\n",
        "print(x.grad)    # x.grad = 2 \r\n",
        "print(w.grad)    # w.grad = 1 \r\n",
        "print(b.grad)    # b.grad = 1 "
      ],
      "execution_count": 10,
      "outputs": [
        {
          "output_type": "stream",
          "text": [
            "tensor(2.)\n",
            "tensor(1.)\n",
            "tensor(2.)\n"
          ],
          "name": "stdout"
        }
      ]
    },
    {
      "cell_type": "code",
      "metadata": {
        "colab": {
          "base_uri": "https://localhost:8080/"
        },
        "id": "pTrZEjbIFrxf",
        "outputId": "87321681-ddc5-499a-8b30-5a15c05ea2aa"
      },
      "source": [
        "# Create tensors of shape (10, 3) and (10, 2).\r\n",
        "x = torch.randn(10, 3)\r\n",
        "print(x)\r\n",
        "y = torch.randn(10, 2)\r\n",
        "\r\n",
        "# Build a fully connected layer.\r\n",
        "linear = nn.Linear(3, 2)\r\n",
        "print ('w: ', linear.weight)\r\n",
        "print ('b: ', linear.bias)"
      ],
      "execution_count": 15,
      "outputs": [
        {
          "output_type": "stream",
          "text": [
            "tensor([[ 0.7790,  0.0239,  1.4555],\n",
            "        [ 0.7152,  0.8639, -0.1543],\n",
            "        [ 0.4005, -0.5709,  0.0868],\n",
            "        [-0.5331,  0.7499,  1.2245],\n",
            "        [ 2.1537,  1.4167, -1.6202],\n",
            "        [-2.0707,  0.0998,  0.0660],\n",
            "        [ 0.3680,  2.3420,  0.8468],\n",
            "        [ 0.3559,  0.5428,  2.4237],\n",
            "        [-0.8717, -0.1984, -0.0118],\n",
            "        [ 0.1174, -1.1647,  0.1988]])\n",
            "w:  Parameter containing:\n",
            "tensor([[-0.3326, -0.2945,  0.4718],\n",
            "        [-0.4377,  0.0490,  0.5487]], requires_grad=True)\n",
            "b:  Parameter containing:\n",
            "tensor([-0.3553, -0.5051], requires_grad=True)\n"
          ],
          "name": "stdout"
        }
      ]
    },
    {
      "cell_type": "code",
      "metadata": {
        "colab": {
          "base_uri": "https://localhost:8080/"
        },
        "id": "kpJ74PUkAZCx",
        "outputId": "90142c38-558f-474d-b69b-6c2662ed0a83"
      },
      "source": [
        "\r\n",
        "\r\n",
        "# Build loss function and optimizer.\r\n",
        "criterion = nn.MSELoss()\r\n",
        "optimizer = torch.optim.SGD(linear.parameters(), lr=0.01)\r\n",
        "\r\n",
        "# Forward pass.\r\n",
        "pred = linear(x)\r\n",
        "\r\n",
        "# Compute loss.\r\n",
        "loss = criterion(pred, y)\r\n",
        "print('loss: ', loss.item())\r\n",
        "\r\n",
        "# Backward pass.\r\n",
        "loss.backward()\r\n",
        "\r\n",
        "# Print out the gradients.\r\n",
        "print ('dL/dw: ', linear.weight.grad) \r\n",
        "print ('dL/db: ', linear.bias.grad)\r\n",
        "\r\n",
        "# 1-step gradient descent.\r\n",
        "optimizer.step()\r\n",
        "\r\n",
        "# You can also perform gradient descent at the low level.\r\n",
        "# linear.weight.data.sub_(0.01 * linear.weight.grad.data)\r\n",
        "# linear.bias.data.sub_(0.01 * linear.bias.grad.data)\r\n",
        "\r\n",
        "# Print out the loss after 1-step gradient descent.\r\n",
        "pred = linear(x)\r\n",
        "loss = criterion(pred, y)\r\n",
        "print('loss after 1 step optimization: ', loss.item())"
      ],
      "execution_count": 13,
      "outputs": [
        {
          "output_type": "stream",
          "text": [
            "w:  Parameter containing:\n",
            "tensor([[ 0.2903,  0.3816,  0.4885],\n",
            "        [-0.1188, -0.0762,  0.5031]], requires_grad=True)\n",
            "b:  Parameter containing:\n",
            "tensor([-0.3843, -0.0771], requires_grad=True)\n",
            "loss:  1.2168896198272705\n",
            "dL/dw:  tensor([[ 0.2323,  0.1272, -0.2910],\n",
            "        [-0.7922, -0.0442, -0.0557]])\n",
            "dL/db:  tensor([-0.2858, -0.2205])\n",
            "loss after 1 step optimization:  1.2077805995941162\n"
          ],
          "name": "stdout"
        }
      ]
    },
    {
      "cell_type": "code",
      "metadata": {
        "id": "qdKtdDAKFlci"
      },
      "source": [
        ""
      ],
      "execution_count": null,
      "outputs": []
    }
  ]
}